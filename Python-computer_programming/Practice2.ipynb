{
 "cells": [
  {
   "cell_type": "code",
   "execution_count": 2,
   "metadata": {},
   "outputs": [],
   "source": [
    "%load_ext sql\n",
    "%sql sqlite:///tiny-college.db"
   ]
  },
  {
   "cell_type": "markdown",
   "metadata": {},
   "source": [
    "## Part 2: SQL Query (10 points each)"
   ]
  },
  {
   "cell_type": "code",
   "execution_count": 67,
   "metadata": {},
   "outputs": [
    {
     "name": "stdout",
     "output_type": "stream",
     "text": [
      " * sqlite:///tiny-college.db\n",
      "Done.\n"
     ]
    },
    {
     "data": {
      "text/html": [
       "<table>\n",
       "    <tr>\n",
       "        <th>name</th>\n",
       "    </tr>\n",
       "    <tr>\n",
       "        <td>CLASS</td>\n",
       "    </tr>\n",
       "    <tr>\n",
       "        <td>COURSE</td>\n",
       "    </tr>\n",
       "    <tr>\n",
       "        <td>DEPARTMENT</td>\n",
       "    </tr>\n",
       "    <tr>\n",
       "        <td>PREREQ</td>\n",
       "    </tr>\n",
       "    <tr>\n",
       "        <td>PROFESSOR</td>\n",
       "    </tr>\n",
       "    <tr>\n",
       "        <td>STUDENT</td>\n",
       "    </tr>\n",
       "</table>"
      ],
      "text/plain": [
       "[('CLASS',),\n",
       " ('COURSE',),\n",
       " ('DEPARTMENT',),\n",
       " ('PREREQ',),\n",
       " ('PROFESSOR',),\n",
       " ('STUDENT',)]"
      ]
     },
     "execution_count": 67,
     "metadata": {},
     "output_type": "execute_result"
    }
   ],
   "source": [
    "%%sql\n",
    "select name from sqlite_master\n",
    "where type='table'\n",
    "order by name;"
   ]
  },
  {
   "cell_type": "markdown",
   "metadata": {},
   "source": [
    "### Question 1 \n",
    "\n",
    "Write a query to list the first and last names of all freshmen students and their advisors (professors)."
   ]
  },
  {
   "cell_type": "code",
   "execution_count": 12,
   "metadata": {},
   "outputs": [
    {
     "name": "stdout",
     "output_type": "stream",
     "text": [
      " * sqlite:///tiny-college.db\n",
      "Done.\n"
     ]
    },
    {
     "data": {
      "text/html": [
       "<table>\n",
       "    <tr>\n",
       "        <th>Stu_fname</th>\n",
       "        <th>Stu_lname</th>\n",
       "        <th>Prof_fname</th>\n",
       "        <th>Prof_lname</th>\n",
       "    </tr>\n",
       "    <tr>\n",
       "        <td>John</td>\n",
       "        <td>Smith</td>\n",
       "        <td>Ismael</td>\n",
       "        <td>Osaki</td>\n",
       "    </tr>\n",
       "</table>"
      ],
      "text/plain": [
       "[('John', 'Smith', 'Ismael', 'Osaki')]"
      ]
     },
     "execution_count": 12,
     "metadata": {},
     "output_type": "execute_result"
    }
   ],
   "source": [
    "%%sql\n",
    "select stu_fname, stu_lname, prof_fname, prof_lname\n",
    "from student s, professor p\n",
    "where s.Prof_num=p.Prof_num and stu_grade='Fr'"
   ]
  },
  {
   "cell_type": "markdown",
   "metadata": {},
   "source": [
    "### Question 2\n",
    "\n",
    "Write a query to retrieve, for each class, the department name, course description, and the professor's last name."
   ]
  },
  {
   "cell_type": "code",
   "execution_count": 9,
   "metadata": {},
   "outputs": [
    {
     "name": "stdout",
     "output_type": "stream",
     "text": [
      " * sqlite:///tiny-college.db\n",
      "Done.\n"
     ]
    },
    {
     "data": {
      "text/html": [
       "<table>\n",
       "    <tr>\n",
       "        <th>Class_code</th>\n",
       "        <th>Dept_name</th>\n",
       "        <th>Crs_description</th>\n",
       "        <th>Prof_lname</th>\n",
       "    </tr>\n",
       "    <tr>\n",
       "        <td>10012</td>\n",
       "        <td>Accounting</td>\n",
       "        <td>Accounting I</td>\n",
       "        <td>Graztevski</td>\n",
       "    </tr>\n",
       "    <tr>\n",
       "        <td>10012</td>\n",
       "        <td>Accounting</td>\n",
       "        <td>Accounting I</td>\n",
       "        <td>Heffington</td>\n",
       "    </tr>\n",
       "    <tr>\n",
       "        <td>10012</td>\n",
       "        <td>Accounting</td>\n",
       "        <td>Accounting I</td>\n",
       "        <td>Osaki</td>\n",
       "    </tr>\n",
       "    <tr>\n",
       "        <td>10013</td>\n",
       "        <td>Accounting</td>\n",
       "        <td>Accounting I</td>\n",
       "        <td>Graztevski</td>\n",
       "    </tr>\n",
       "    <tr>\n",
       "        <td>10013</td>\n",
       "        <td>Accounting</td>\n",
       "        <td>Accounting I</td>\n",
       "        <td>Heffington</td>\n",
       "    </tr>\n",
       "    <tr>\n",
       "        <td>10013</td>\n",
       "        <td>Accounting</td>\n",
       "        <td>Accounting I</td>\n",
       "        <td>Osaki</td>\n",
       "    </tr>\n",
       "    <tr>\n",
       "        <td>10014</td>\n",
       "        <td>Accounting</td>\n",
       "        <td>Accounting I</td>\n",
       "        <td>Graztevski</td>\n",
       "    </tr>\n",
       "    <tr>\n",
       "        <td>10014</td>\n",
       "        <td>Accounting</td>\n",
       "        <td>Accounting I</td>\n",
       "        <td>Heffington</td>\n",
       "    </tr>\n",
       "    <tr>\n",
       "        <td>10014</td>\n",
       "        <td>Accounting</td>\n",
       "        <td>Accounting I</td>\n",
       "        <td>Osaki</td>\n",
       "    </tr>\n",
       "    <tr>\n",
       "        <td>10015</td>\n",
       "        <td>Accounting</td>\n",
       "        <td>Accounting II</td>\n",
       "        <td>Graztevski</td>\n",
       "    </tr>\n",
       "    <tr>\n",
       "        <td>10015</td>\n",
       "        <td>Accounting</td>\n",
       "        <td>Accounting II</td>\n",
       "        <td>Heffington</td>\n",
       "    </tr>\n",
       "    <tr>\n",
       "        <td>10015</td>\n",
       "        <td>Accounting</td>\n",
       "        <td>Accounting II</td>\n",
       "        <td>Osaki</td>\n",
       "    </tr>\n",
       "    <tr>\n",
       "        <td>10016</td>\n",
       "        <td>Accounting</td>\n",
       "        <td>Accounting II</td>\n",
       "        <td>Graztevski</td>\n",
       "    </tr>\n",
       "    <tr>\n",
       "        <td>10016</td>\n",
       "        <td>Accounting</td>\n",
       "        <td>Accounting II</td>\n",
       "        <td>Heffington</td>\n",
       "    </tr>\n",
       "    <tr>\n",
       "        <td>10016</td>\n",
       "        <td>Accounting</td>\n",
       "        <td>Accounting II</td>\n",
       "        <td>Osaki</td>\n",
       "    </tr>\n",
       "    <tr>\n",
       "        <td>10017</td>\n",
       "        <td>Computer Info. Systems</td>\n",
       "        <td>Intro. to Microcomputing</td>\n",
       "        <td>Coronel</td>\n",
       "    </tr>\n",
       "    <tr>\n",
       "        <td>10017</td>\n",
       "        <td>Computer Info. Systems</td>\n",
       "        <td>Intro. to Microcomputing</td>\n",
       "        <td>Rob</td>\n",
       "    </tr>\n",
       "    <tr>\n",
       "        <td>10017</td>\n",
       "        <td>Computer Info. Systems</td>\n",
       "        <td>Intro. to Microcomputing</td>\n",
       "        <td>Smith</td>\n",
       "    </tr>\n",
       "    <tr>\n",
       "        <td>10018</td>\n",
       "        <td>Computer Info. Systems</td>\n",
       "        <td>Intro. to Microcomputing</td>\n",
       "        <td>Coronel</td>\n",
       "    </tr>\n",
       "    <tr>\n",
       "        <td>10018</td>\n",
       "        <td>Computer Info. Systems</td>\n",
       "        <td>Intro. to Microcomputing</td>\n",
       "        <td>Rob</td>\n",
       "    </tr>\n",
       "    <tr>\n",
       "        <td>10018</td>\n",
       "        <td>Computer Info. Systems</td>\n",
       "        <td>Intro. to Microcomputing</td>\n",
       "        <td>Smith</td>\n",
       "    </tr>\n",
       "    <tr>\n",
       "        <td>10019</td>\n",
       "        <td>Computer Info. Systems</td>\n",
       "        <td>Intro. to Microcomputing</td>\n",
       "        <td>Coronel</td>\n",
       "    </tr>\n",
       "    <tr>\n",
       "        <td>10019</td>\n",
       "        <td>Computer Info. Systems</td>\n",
       "        <td>Intro. to Microcomputing</td>\n",
       "        <td>Rob</td>\n",
       "    </tr>\n",
       "    <tr>\n",
       "        <td>10019</td>\n",
       "        <td>Computer Info. Systems</td>\n",
       "        <td>Intro. to Microcomputing</td>\n",
       "        <td>Smith</td>\n",
       "    </tr>\n",
       "    <tr>\n",
       "        <td>10020</td>\n",
       "        <td>Computer Info. Systems</td>\n",
       "        <td>Database Design and Implementation</td>\n",
       "        <td>Coronel</td>\n",
       "    </tr>\n",
       "    <tr>\n",
       "        <td>10020</td>\n",
       "        <td>Computer Info. Systems</td>\n",
       "        <td>Database Design and Implementation</td>\n",
       "        <td>Rob</td>\n",
       "    </tr>\n",
       "    <tr>\n",
       "        <td>10020</td>\n",
       "        <td>Computer Info. Systems</td>\n",
       "        <td>Database Design and Implementation</td>\n",
       "        <td>Smith</td>\n",
       "    </tr>\n",
       "    <tr>\n",
       "        <td>10021</td>\n",
       "        <td>Computer Info. Systems</td>\n",
       "        <td>Intro. to Statistics</td>\n",
       "        <td>Coronel</td>\n",
       "    </tr>\n",
       "    <tr>\n",
       "        <td>10021</td>\n",
       "        <td>Computer Info. Systems</td>\n",
       "        <td>Intro. to Statistics</td>\n",
       "        <td>Rob</td>\n",
       "    </tr>\n",
       "    <tr>\n",
       "        <td>10021</td>\n",
       "        <td>Computer Info. Systems</td>\n",
       "        <td>Intro. to Statistics</td>\n",
       "        <td>Smith</td>\n",
       "    </tr>\n",
       "    <tr>\n",
       "        <td>10022</td>\n",
       "        <td>Computer Info. Systems</td>\n",
       "        <td>Intro. to Statistics</td>\n",
       "        <td>Coronel</td>\n",
       "    </tr>\n",
       "    <tr>\n",
       "        <td>10022</td>\n",
       "        <td>Computer Info. Systems</td>\n",
       "        <td>Intro. to Statistics</td>\n",
       "        <td>Rob</td>\n",
       "    </tr>\n",
       "    <tr>\n",
       "        <td>10022</td>\n",
       "        <td>Computer Info. Systems</td>\n",
       "        <td>Intro. to Statistics</td>\n",
       "        <td>Smith</td>\n",
       "    </tr>\n",
       "    <tr>\n",
       "        <td>10023</td>\n",
       "        <td>Computer Info. Systems</td>\n",
       "        <td>Statistical Applications</td>\n",
       "        <td>Coronel</td>\n",
       "    </tr>\n",
       "    <tr>\n",
       "        <td>10023</td>\n",
       "        <td>Computer Info. Systems</td>\n",
       "        <td>Statistical Applications</td>\n",
       "        <td>Rob</td>\n",
       "    </tr>\n",
       "    <tr>\n",
       "        <td>10023</td>\n",
       "        <td>Computer Info. Systems</td>\n",
       "        <td>Statistical Applications</td>\n",
       "        <td>Smith</td>\n",
       "    </tr>\n",
       "    <tr>\n",
       "        <td>10024</td>\n",
       "        <td>Computer Info. Systems</td>\n",
       "        <td>Statistical Applications</td>\n",
       "        <td>Coronel</td>\n",
       "    </tr>\n",
       "    <tr>\n",
       "        <td>10024</td>\n",
       "        <td>Computer Info. Systems</td>\n",
       "        <td>Statistical Applications</td>\n",
       "        <td>Rob</td>\n",
       "    </tr>\n",
       "    <tr>\n",
       "        <td>10024</td>\n",
       "        <td>Computer Info. Systems</td>\n",
       "        <td>Statistical Applications</td>\n",
       "        <td>Smith</td>\n",
       "    </tr>\n",
       "    <tr>\n",
       "        <td>10025</td>\n",
       "        <td>Mathematics</td>\n",
       "        <td>Mathmatic for Managers</td>\n",
       "        <td>Jones</td>\n",
       "    </tr>\n",
       "    <tr>\n",
       "        <td>10025</td>\n",
       "        <td>Mathematics</td>\n",
       "        <td>Mathmatic for Managers</td>\n",
       "        <td>Ritula</td>\n",
       "    </tr>\n",
       "</table>"
      ],
      "text/plain": [
       "[(10012, 'Accounting', 'Accounting I', 'Graztevski'),\n",
       " (10012, 'Accounting', 'Accounting I', 'Heffington'),\n",
       " (10012, 'Accounting', 'Accounting I', 'Osaki'),\n",
       " (10013, 'Accounting', 'Accounting I', 'Graztevski'),\n",
       " (10013, 'Accounting', 'Accounting I', 'Heffington'),\n",
       " (10013, 'Accounting', 'Accounting I', 'Osaki'),\n",
       " (10014, 'Accounting', 'Accounting I', 'Graztevski'),\n",
       " (10014, 'Accounting', 'Accounting I', 'Heffington'),\n",
       " (10014, 'Accounting', 'Accounting I', 'Osaki'),\n",
       " (10015, 'Accounting', 'Accounting II', 'Graztevski'),\n",
       " (10015, 'Accounting', 'Accounting II', 'Heffington'),\n",
       " (10015, 'Accounting', 'Accounting II', 'Osaki'),\n",
       " (10016, 'Accounting', 'Accounting II', 'Graztevski'),\n",
       " (10016, 'Accounting', 'Accounting II', 'Heffington'),\n",
       " (10016, 'Accounting', 'Accounting II', 'Osaki'),\n",
       " (10017, 'Computer Info. Systems', 'Intro. to Microcomputing', 'Coronel'),\n",
       " (10017, 'Computer Info. Systems', 'Intro. to Microcomputing', 'Rob'),\n",
       " (10017, 'Computer Info. Systems', 'Intro. to Microcomputing', 'Smith'),\n",
       " (10018, 'Computer Info. Systems', 'Intro. to Microcomputing', 'Coronel'),\n",
       " (10018, 'Computer Info. Systems', 'Intro. to Microcomputing', 'Rob'),\n",
       " (10018, 'Computer Info. Systems', 'Intro. to Microcomputing', 'Smith'),\n",
       " (10019, 'Computer Info. Systems', 'Intro. to Microcomputing', 'Coronel'),\n",
       " (10019, 'Computer Info. Systems', 'Intro. to Microcomputing', 'Rob'),\n",
       " (10019, 'Computer Info. Systems', 'Intro. to Microcomputing', 'Smith'),\n",
       " (10020, 'Computer Info. Systems', 'Database Design and Implementation', 'Coronel'),\n",
       " (10020, 'Computer Info. Systems', 'Database Design and Implementation', 'Rob'),\n",
       " (10020, 'Computer Info. Systems', 'Database Design and Implementation', 'Smith'),\n",
       " (10021, 'Computer Info. Systems', 'Intro. to Statistics', 'Coronel'),\n",
       " (10021, 'Computer Info. Systems', 'Intro. to Statistics', 'Rob'),\n",
       " (10021, 'Computer Info. Systems', 'Intro. to Statistics', 'Smith'),\n",
       " (10022, 'Computer Info. Systems', 'Intro. to Statistics', 'Coronel'),\n",
       " (10022, 'Computer Info. Systems', 'Intro. to Statistics', 'Rob'),\n",
       " (10022, 'Computer Info. Systems', 'Intro. to Statistics', 'Smith'),\n",
       " (10023, 'Computer Info. Systems', 'Statistical Applications', 'Coronel'),\n",
       " (10023, 'Computer Info. Systems', 'Statistical Applications', 'Rob'),\n",
       " (10023, 'Computer Info. Systems', 'Statistical Applications', 'Smith'),\n",
       " (10024, 'Computer Info. Systems', 'Statistical Applications', 'Coronel'),\n",
       " (10024, 'Computer Info. Systems', 'Statistical Applications', 'Rob'),\n",
       " (10024, 'Computer Info. Systems', 'Statistical Applications', 'Smith'),\n",
       " (10025, 'Mathematics', 'Mathmatic for Managers', 'Jones'),\n",
       " (10025, 'Mathematics', 'Mathmatic for Managers', 'Ritula')]"
      ]
     },
     "execution_count": 9,
     "metadata": {},
     "output_type": "execute_result"
    }
   ],
   "source": [
    "%%sql\n",
    "select class_code, dept_name, crs_description, prof_lname\n",
    "from class cl, department d, course co, professor p\n",
    "where cl.crs_code=co.crs_code and co.dept_code=d.dept_code and d.dept_code=p.dept_code"
   ]
  },
  {
   "cell_type": "markdown",
   "metadata": {},
   "source": [
    "### Question 3\n",
    "\n",
    "Write a query to show all student numbers, student names, their professor names, and department names whose department code is ‘ACCT’ or ‘CIS’. "
   ]
  },
  {
   "cell_type": "code",
   "execution_count": 37,
   "metadata": {},
   "outputs": [
    {
     "name": "stdout",
     "output_type": "stream",
     "text": [
      " * sqlite:///tiny-college.db\n",
      "Done.\n"
     ]
    },
    {
     "data": {
      "text/html": [
       "<table>\n",
       "    <tr>\n",
       "        <th>Stu_num</th>\n",
       "        <th>Stu_fname</th>\n",
       "        <th>Stu_lname</th>\n",
       "        <th>Prof_fname</th>\n",
       "        <th>Prof_lname</th>\n",
       "        <th>Dept_name</th>\n",
       "    </tr>\n",
       "    <tr>\n",
       "        <td>324258</td>\n",
       "        <td>Juliette</td>\n",
       "        <td>Brewer</td>\n",
       "        <td>Gerald</td>\n",
       "        <td>Graztevski</td>\n",
       "        <td>Accounting</td>\n",
       "    </tr>\n",
       "    <tr>\n",
       "        <td>324274</td>\n",
       "        <td>Raphael</td>\n",
       "        <td>Katinga</td>\n",
       "        <td>Arnelle</td>\n",
       "        <td>Heffington</td>\n",
       "        <td>Accounting</td>\n",
       "    </tr>\n",
       "    <tr>\n",
       "        <td>324299</td>\n",
       "        <td>John</td>\n",
       "        <td>Smith</td>\n",
       "        <td>Ismael</td>\n",
       "        <td>Osaki</td>\n",
       "        <td>Accounting</td>\n",
       "    </tr>\n",
       "    <tr>\n",
       "        <td>324257</td>\n",
       "        <td>Anne</td>\n",
       "        <td>Smithson</td>\n",
       "        <td>Carlos</td>\n",
       "        <td>Coronel</td>\n",
       "        <td>Computer Info. Systems</td>\n",
       "    </tr>\n",
       "    <tr>\n",
       "        <td>324269</td>\n",
       "        <td>Walter</td>\n",
       "        <td>Oblonski</td>\n",
       "        <td>Melanie</td>\n",
       "        <td>Smith</td>\n",
       "        <td>Computer Info. Systems</td>\n",
       "    </tr>\n",
       "</table>"
      ],
      "text/plain": [
       "[(324258, 'Juliette', 'Brewer', 'Gerald', 'Graztevski', 'Accounting'),\n",
       " (324274, 'Raphael', 'Katinga', 'Arnelle', 'Heffington', 'Accounting'),\n",
       " (324299, 'John', 'Smith', 'Ismael', 'Osaki', 'Accounting'),\n",
       " (324257, 'Anne', 'Smithson', 'Carlos', 'Coronel', 'Computer Info. Systems'),\n",
       " (324269, 'Walter', 'Oblonski', 'Melanie', 'Smith', 'Computer Info. Systems')]"
      ]
     },
     "execution_count": 37,
     "metadata": {},
     "output_type": "execute_result"
    }
   ],
   "source": [
    "%%sql\n",
    "select stu_num, stu_fname, stu_lname, prof_fname, prof_lname, dept_name \n",
    "from student s, professor p, department d\n",
    "where s.dept_code=d.dept_code and p.prof_num=s.prof_num and p.dept_code=d.dept_code and (d.dept_code='ACCT' or d.dept_code='CIS')"
   ]
  },
  {
   "cell_type": "markdown",
   "metadata": {},
   "source": [
    "### Question 4\n",
    "\n",
    "Write a query to list the name of departments having equal or over 3 professors."
   ]
  },
  {
   "cell_type": "code",
   "execution_count": 30,
   "metadata": {},
   "outputs": [
    {
     "name": "stdout",
     "output_type": "stream",
     "text": [
      " * sqlite:///tiny-college.db\n",
      "Done.\n"
     ]
    },
    {
     "data": {
      "text/html": [
       "<table>\n",
       "    <tr>\n",
       "        <th>Dept_name</th>\n",
       "    </tr>\n",
       "    <tr>\n",
       "        <td>Accounting</td>\n",
       "    </tr>\n",
       "    <tr>\n",
       "        <td>Computer Info. Systems</td>\n",
       "    </tr>\n",
       "    <tr>\n",
       "        <td>English</td>\n",
       "    </tr>\n",
       "</table>"
      ],
      "text/plain": [
       "[('Accounting',), ('Computer Info. Systems',), ('English',)]"
      ]
     },
     "execution_count": 30,
     "metadata": {},
     "output_type": "execute_result"
    }
   ],
   "source": [
    "%%sql\n",
    "select dept_name\n",
    "from professor join department on professor.dept_code=department.dept_code\n",
    "group by professor.dept_code\n",
    "having count(prof_num) >= 3"
   ]
  },
  {
   "cell_type": "markdown",
   "metadata": {},
   "source": [
    "### Question 4\n",
    "\n",
    "Write a query to list the courses that have prerequisite courses. Show the course code, course_description, course code of the prerequisite course, course description of the prerequisite course."
   ]
  },
  {
   "cell_type": "code",
   "execution_count": 90,
   "metadata": {
    "scrolled": true
   },
   "outputs": [
    {
     "name": "stdout",
     "output_type": "stream",
     "text": [
      " * sqlite:///tiny-college.db\n",
      "Done.\n"
     ]
    },
    {
     "data": {
      "text/html": [
       "<table>\n",
       "    <tr>\n",
       "        <th>Crs_code</th>\n",
       "        <th>Crs_description</th>\n",
       "        <th>Pre_take</th>\n",
       "        <th>Pre_description</th>\n",
       "    </tr>\n",
       "    <tr>\n",
       "        <td>CIS-420</td>\n",
       "        <td>Database Design and Implementation</td>\n",
       "        <td>CIS-220</td>\n",
       "        <td>Intro. to Microcomputing</td>\n",
       "    </tr>\n",
       "    <tr>\n",
       "        <td>QM-261</td>\n",
       "        <td>Intro. to Statistics</td>\n",
       "        <td>MATH-243</td>\n",
       "        <td>Mathmatic for Managers</td>\n",
       "    </tr>\n",
       "    <tr>\n",
       "        <td>QM-362</td>\n",
       "        <td>Statistical Applications</td>\n",
       "        <td>MATH-243</td>\n",
       "        <td>Mathmatic for Managers</td>\n",
       "    </tr>\n",
       "    <tr>\n",
       "        <td>QM-362</td>\n",
       "        <td>Statistical Applications</td>\n",
       "        <td>QM-261</td>\n",
       "        <td>Intro. to Statistics</td>\n",
       "    </tr>\n",
       "</table>"
      ],
      "text/plain": [
       "[('CIS-420', 'Database Design and Implementation', 'CIS-220', 'Intro. to Microcomputing'),\n",
       " ('QM-261', 'Intro. to Statistics', 'MATH-243', 'Mathmatic for Managers'),\n",
       " ('QM-362', 'Statistical Applications', 'MATH-243', 'Mathmatic for Managers'),\n",
       " ('QM-362', 'Statistical Applications', 'QM-261', 'Intro. to Statistics')]"
      ]
     },
     "execution_count": 90,
     "metadata": {},
     "output_type": "execute_result"
    }
   ],
   "source": [
    "%%sql\n",
    "select distinct x.crs_code, x.crs_description, q.pre_take, (select y.crs_description from course y, prereq where q.pre_take=y.crs_code) as Pre_description\n",
    "from course x, prereq q \n",
    "where q.crs_code=x.crs_code"
   ]
  },
  {
   "cell_type": "markdown",
   "metadata": {},
   "source": [
    "### Question 6\n",
    "\n",
    "Write a query to show the names and department name of all professors who has no class. "
   ]
  },
  {
   "cell_type": "code",
   "execution_count": 63,
   "metadata": {},
   "outputs": [
    {
     "name": "stdout",
     "output_type": "stream",
     "text": [
      " * sqlite:///tiny-college.db\n",
      "Done.\n"
     ]
    },
    {
     "data": {
      "text/html": [
       "<table>\n",
       "    <tr>\n",
       "        <th>Prof_fname</th>\n",
       "        <th>Prof_lname</th>\n",
       "        <th>Dept_name</th>\n",
       "    </tr>\n",
       "    <tr>\n",
       "        <td>Ronald</td>\n",
       "        <td>Donelly</td>\n",
       "        <td>History</td>\n",
       "    </tr>\n",
       "    <tr>\n",
       "        <td>Preston</td>\n",
       "        <td>Yukon</td>\n",
       "        <td>English</td>\n",
       "    </tr>\n",
       "    <tr>\n",
       "        <td>Ross</td>\n",
       "        <td>Washington</td>\n",
       "        <td>Marketing/Management</td>\n",
       "    </tr>\n",
       "    <tr>\n",
       "        <td>Van</td>\n",
       "        <td>Thieu</td>\n",
       "        <td>Biology</td>\n",
       "    </tr>\n",
       "    <tr>\n",
       "        <td>Robert</td>\n",
       "        <td>Smith</td>\n",
       "        <td>English</td>\n",
       "    </tr>\n",
       "    <tr>\n",
       "        <td>Willa</td>\n",
       "        <td>Dexter</td>\n",
       "        <td>Marketing/Management</td>\n",
       "    </tr>\n",
       "    <tr>\n",
       "        <td>Herman</td>\n",
       "        <td>Williams</td>\n",
       "        <td>Psychology</td>\n",
       "    </tr>\n",
       "    <tr>\n",
       "        <td>Doreen</td>\n",
       "        <td>Stoddard</td>\n",
       "        <td>Economics/Finance</td>\n",
       "    </tr>\n",
       "    <tr>\n",
       "        <td>Todd</td>\n",
       "        <td>Wilson</td>\n",
       "        <td>English</td>\n",
       "    </tr>\n",
       "    <tr>\n",
       "        <td>Suzanne</td>\n",
       "        <td>Jones</td>\n",
       "        <td>Sociology</td>\n",
       "    </tr>\n",
       "    <tr>\n",
       "        <td>Elsa</td>\n",
       "        <td>Smith</td>\n",
       "        <td>Biology</td>\n",
       "    </tr>\n",
       "    <tr>\n",
       "        <td>James</td>\n",
       "        <td>Ardano</td>\n",
       "        <td>History</td>\n",
       "    </tr>\n",
       "    <tr>\n",
       "        <td>Kathryn</td>\n",
       "        <td>Williamson</td>\n",
       "        <td>Economics/Finance</td>\n",
       "    </tr>\n",
       "    <tr>\n",
       "        <td>Jill</td>\n",
       "        <td>Herndon</td>\n",
       "        <td>Fine Arts</td>\n",
       "    </tr>\n",
       "</table>"
      ],
      "text/plain": [
       "[('Ronald', 'Donelly', 'History'),\n",
       " ('Preston', 'Yukon', 'English'),\n",
       " ('Ross', 'Washington', 'Marketing/Management'),\n",
       " ('Van', 'Thieu', 'Biology'),\n",
       " ('Robert', 'Smith', 'English'),\n",
       " ('Willa', 'Dexter', 'Marketing/Management'),\n",
       " ('Herman', 'Williams', 'Psychology'),\n",
       " ('Doreen', 'Stoddard', 'Economics/Finance'),\n",
       " ('Todd', 'Wilson', 'English'),\n",
       " ('Suzanne', 'Jones', 'Sociology'),\n",
       " ('Elsa', 'Smith', 'Biology'),\n",
       " ('James', 'Ardano', 'History'),\n",
       " ('Kathryn', 'Williamson', 'Economics/Finance'),\n",
       " ('Jill', 'Herndon', 'Fine Arts')]"
      ]
     },
     "execution_count": 63,
     "metadata": {},
     "output_type": "execute_result"
    }
   ],
   "source": [
    "%%sql\n",
    "select prof_fname, prof_lname, dept_name \n",
    "from professor, department\n",
    "where professor.dept_code not in (select dept_code from course) and department.dept_code=professor.dept_code"
   ]
  }
 ],
 "metadata": {
  "kernelspec": {
   "display_name": "Python 3",
   "language": "python",
   "name": "python3"
  },
  "language_info": {
   "codemirror_mode": {
    "name": "ipython",
    "version": 3
   },
   "file_extension": ".py",
   "mimetype": "text/x-python",
   "name": "python",
   "nbconvert_exporter": "python",
   "pygments_lexer": "ipython3",
   "version": "3.9.5"
  }
 },
 "nbformat": 4,
 "nbformat_minor": 2
}
